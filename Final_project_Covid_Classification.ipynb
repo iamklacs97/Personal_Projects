{
  "nbformat": 4,
  "nbformat_minor": 0,
  "metadata": {
    "colab": {
      "provenance": [],
      "include_colab_link": true
    },
    "kernelspec": {
      "name": "python3",
      "display_name": "Python 3"
    },
    "language_info": {
      "name": "python"
    }
  },
  "cells": [
    {
      "cell_type": "markdown",
      "metadata": {
        "id": "view-in-github",
        "colab_type": "text"
      },
      "source": [
        "<a href=\"https://colab.research.google.com/github/iamklacs97/Personal_Projects/blob/main/Final_project_Covid_Classification.ipynb\" target=\"_parent\"><img src=\"https://colab.research.google.com/assets/colab-badge.svg\" alt=\"Open In Colab\"/></a>"
      ]
    },
    {
      "cell_type": "markdown",
      "source": [
        "# ADS654 - Covid Classification\n",
        "\n",
        "### Kyle Lacson and Esther Laub\n",
        "\n",
        "Training a CNN on covid and non-covid infected lung images. The goal here is to develop a working CNN that is able execute under an hour (using google colabs GPU or a single GPU - M1 Pro Chip)."
      ],
      "metadata": {
        "id": "auEIsv6xLVdX"
      }
    },
    {
      "cell_type": "markdown",
      "source": [
        "### 1.1 Importing libraries and packages"
      ],
      "metadata": {
        "id": "GCwdmCrHLdHS"
      }
    },
    {
      "cell_type": "code",
      "source": [
        "import pandas as pd \n",
        "import numpy as np\n",
        "import matplotlib.pyplot as plt \n",
        "import tensorflow as tf\n",
        "\n",
        "from google.colab import drive\n",
        "import os,shutil\n",
        "import warnings\n",
        "warnings.filterwarnings('ignore')"
      ],
      "metadata": {
        "id": "l5kfVCTeL-Q9"
      },
      "execution_count": null,
      "outputs": []
    },
    {
      "cell_type": "markdown",
      "source": [
        "### 1.2 Mounting Google Drive"
      ],
      "metadata": {
        "id": "8cnIvkaCMGml"
      }
    },
    {
      "cell_type": "code",
      "source": [
        "drive.mount('/content/gDrive')"
      ],
      "metadata": {
        "colab": {
          "base_uri": "https://localhost:8080/"
        },
        "id": "pP2-f87fNMtf",
        "outputId": "6b71e7c3-54f5-4e50-c2e8-3a8b399bf083"
      },
      "execution_count": null,
      "outputs": [
        {
          "output_type": "stream",
          "name": "stdout",
          "text": [
            "Drive already mounted at /content/gDrive; to attempt to forcibly remount, call drive.mount(\"/content/gDrive\", force_remount=True).\n"
          ]
        }
      ]
    },
    {
      "cell_type": "code",
      "source": [
        "for dir, root, files in os.walk(os.getcwd()):\n",
        "  print(dir)"
      ],
      "metadata": {
        "colab": {
          "base_uri": "https://localhost:8080/"
        },
        "id": "Of5qqeAtOJ_1",
        "outputId": "258920e3-4bdc-4168-a29f-4eec6352a0c6"
      },
      "execution_count": null,
      "outputs": [
        {
          "output_type": "stream",
          "name": "stdout",
          "text": [
            "/content\n",
            "/content/.config\n",
            "/content/.config/configurations\n",
            "/content/.config/logs\n",
            "/content/.config/logs/2023.04.19\n",
            "/content/gDrive\n",
            "/content/gDrive/Shareddrives\n",
            "/content/gDrive/MyDrive\n",
            "/content/gDrive/MyDrive/Colab Notebooks\n",
            "/content/gDrive/MyDrive/Colab Notebooks/Assignments\n",
            "/content/gDrive/MyDrive/School\n",
            "/content/gDrive/MyDrive/School/ADS654Z1\n",
            "/content/gDrive/MyDrive/School/ADS654Z1/sel_images\n",
            "/content/gDrive/MyDrive/School/ADS654Z1/Final_project\n",
            "/content/gDrive/MyDrive/School/ADS654Z1/Final_project/archive\n",
            "/content/gDrive/MyDrive/School/ADS654Z1/Final_project/archive/.ipynb_checkpoints\n",
            "/content/gDrive/MyDrive/School/ADS654Z1/Final_project/archive/Train\n",
            "/content/gDrive/MyDrive/School/ADS654Z1/Final_project/archive/Train/Covid\n",
            "/content/gDrive/MyDrive/School/ADS654Z1/Final_project/archive/Train/Non_Covid\n",
            "/content/gDrive/MyDrive/School/ADS654Z1/Final_project/archive/Test\n",
            "/content/gDrive/MyDrive/School/ADS654Z1/Final_project/archive/Test/Covid\n",
            "/content/gDrive/MyDrive/School/ADS654Z1/Final_project/archive/Test/Non_Covid\n",
            "/content/gDrive/MyDrive/School/ADS654Z1/Final_project/Covid_Images\n",
            "/content/gDrive/MyDrive/School/ADS654Z1/Final_project/Covid_Images/non-COVID\n",
            "/content/gDrive/MyDrive/School/ADS654Z1/Final_project/Covid_Images/COVID\n",
            "/content/gDrive/MyDrive/School/ADS654Z1/Final_project/Covid_Images/.ipynb_checkpoints\n",
            "/content/gDrive/MyDrive/School/ADS654Z1/Final_project/Heart_segmentation\n",
            "/content/gDrive/MyDrive/School/ADS654Z1/Final_project/Heart_segmentation/imagesTr\n",
            "/content/gDrive/MyDrive/School/ADS654Z1/Final_project/Heart_segmentation/imagesTs\n",
            "/content/gDrive/MyDrive/School/ADS654Z1/Final_project/Heart_segmentation/labelsTr\n",
            "/content/gDrive/MyDrive/School/ADS638Z1\n",
            "/content/gDrive/.shortcut-targets-by-id\n",
            "/content/gDrive/.file-revisions-by-id\n",
            "/content/gDrive/.Trash-0\n",
            "/content/gDrive/.Trash-0/files\n",
            "/content/gDrive/.Trash-0/info\n",
            "/content/sample_data\n"
          ]
        }
      ]
    },
    {
      "cell_type": "code",
      "source": [
        "main_dir = r'/content/gDrive/MyDrive/School/ADS654Z1/Final_project/'"
      ],
      "metadata": {
        "id": "GgDcrBKsPc1E"
      },
      "execution_count": null,
      "outputs": []
    },
    {
      "cell_type": "code",
      "source": [
        "for dir, root, files in os.walk(main_dir):\n",
        "  print(root)"
      ],
      "metadata": {
        "colab": {
          "base_uri": "https://localhost:8080/"
        },
        "id": "Oqq_oC0WPqQn",
        "outputId": "3152cb49-8b54-458c-a057-e07f4d876d00"
      },
      "execution_count": null,
      "outputs": [
        {
          "output_type": "stream",
          "name": "stdout",
          "text": [
            "['archive', 'Covid_Images', 'Heart_segmentation']\n",
            "['.ipynb_checkpoints', 'Train', 'Test']\n",
            "[]\n",
            "['Covid', 'Non_Covid']\n",
            "[]\n",
            "[]\n",
            "['Covid', 'Non_Covid']\n",
            "[]\n",
            "[]\n",
            "['non-COVID', 'COVID', '.ipynb_checkpoints']\n",
            "[]\n",
            "[]\n",
            "[]\n",
            "['imagesTr', 'imagesTs', 'labelsTr']\n",
            "[]\n",
            "[]\n",
            "[]\n"
          ]
        }
      ]
    },
    {
      "cell_type": "code",
      "source": [
        "image_dir = os.path.join(main_dir,'Covid_Images')\n",
        "train_test_dir = os.path.join(main_dir,'archive')"
      ],
      "metadata": {
        "id": "pmioiloaQNid"
      },
      "execution_count": null,
      "outputs": []
    },
    {
      "cell_type": "markdown",
      "source": [
        "### 1.3 Setting up proper directories for training and test datasets"
      ],
      "metadata": {
        "id": "ZyR0mzGGzlyJ"
      }
    },
    {
      "cell_type": "markdown",
      "source": [
        "**Make new directory for training and test images**"
      ],
      "metadata": {
        "id": "JkJ-g1OY24r2"
      }
    },
    {
      "cell_type": "code",
      "source": [
        "def make_new_dir():\n",
        "  os.chdir(train_test_dir) # change working directory\n",
        "  if os.path.exists(os.path.abspath('Train')) & os.path.exists(os.path.abspath('Test')):\n",
        "    pass\n",
        "  elif (os.path.exists(os.path.abspath('Train')) == True) & (os.path.exists(os.path.abspath('Test')) == False):\n",
        "    os.mkdir('Test')\n",
        "  elif (os.path.exists(os.path.abspath('Train')) == False) & (os.path.exists(os.path.abspath('Test')) == True):\n",
        "    os.mkdir('Train')\n",
        "  else:\n",
        "    os.mkdir('Train')\n",
        "    os.mkdir('Test')\n",
        "\n",
        "# make_new_dir()"
      ],
      "metadata": {
        "id": "e5qIU8QGzwYp"
      },
      "execution_count": null,
      "outputs": []
    },
    {
      "cell_type": "code",
      "source": [
        "train_dir = os.path.abspath('Train')\n",
        "test_dir = os.path.abspath('Test')"
      ],
      "metadata": {
        "id": "SEuNdy9j-x7f"
      },
      "execution_count": null,
      "outputs": []
    },
    {
      "cell_type": "markdown",
      "source": [
        "**Make subdirectories in train and test directories**"
      ],
      "metadata": {
        "id": "aokXOcRJ_yQR"
      }
    },
    {
      "cell_type": "code",
      "source": [
        "def make_train_subdirs():\n",
        "  os.chdir(train_dir)\n",
        "  os.mkdir('Covid')\n",
        "  os.mkdir('Non_Covid')\n",
        "\n",
        "def make_test_subdirs():\n",
        "  os.chdir(test_dir)\n",
        "  os.mkdir('Covid')\n",
        "  os.mkdir('Non_Covid')\n",
        "\n",
        "# make_train_subdirs()\n",
        "# make_test_subdirs()"
      ],
      "metadata": {
        "id": "j0Qk2Mq--5_5"
      },
      "execution_count": null,
      "outputs": []
    },
    {
      "cell_type": "code",
      "source": [
        "os.chdir(main_dir)# returning to project directory"
      ],
      "metadata": {
        "id": "KtZAhzGU2uFR"
      },
      "execution_count": null,
      "outputs": []
    },
    {
      "cell_type": "markdown",
      "source": [
        "**Image directory for covid and non-covid images**"
      ],
      "metadata": {
        "id": "XE0LBfos_8vv"
      }
    },
    {
      "cell_type": "code",
      "source": [
        "covid_dir = os.path.join(image_dir,'COVID')\n",
        "noncovid_dir = os.path.join(image_dir,'non-COVID')"
      ],
      "metadata": {
        "id": "HHMdvwbg3q4q"
      },
      "execution_count": null,
      "outputs": []
    },
    {
      "cell_type": "markdown",
      "source": [
        "**Number of images for covid and non-covid**"
      ],
      "metadata": {
        "id": "xmgvEZvA5PGZ"
      }
    },
    {
      "cell_type": "code",
      "source": [
        "print(f'Number of covid images: {len(os.listdir(covid_dir))} \\nNumber of non-covid images: {len(os.listdir(noncovid_dir))}')"
      ],
      "metadata": {
        "colab": {
          "base_uri": "https://localhost:8080/"
        },
        "id": "Mv6mK9fU4aOL",
        "outputId": "9bfbf391-3c1f-4f0b-b1f7-69b8cdcbd947"
      },
      "execution_count": null,
      "outputs": [
        {
          "output_type": "stream",
          "name": "stdout",
          "text": [
            "Number of covid images: 1252 \n",
            "Number of non-covid images: 1229\n"
          ]
        }
      ]
    },
    {
      "cell_type": "markdown",
      "source": [
        "**Need transfer images into training and testing datasets, need to figure out which dataset is missing any images within the range.**"
      ],
      "metadata": {
        "id": "rNXQsU5I8ZjE"
      }
    },
    {
      "cell_type": "code",
      "source": [
        "# framework for filename - \"Covid (###).png\"\n",
        "def covid_file_check():\n",
        "  true = 0\n",
        "  false = 0\n",
        "  missing_covid_files = []\n",
        "  for i in range(len(os.listdir(covid_dir))+1):\n",
        "    if f'Covid ({i}).png' in os.listdir(covid_dir):\n",
        "      true += 1\n",
        "    else:\n",
        "      false +=1\n",
        "      print(f'Image {i}')\n",
        "      missing_covid_files.append(i)\n",
        "  print(f'Total covid images: {(true+false)-1}')\n",
        "  return missing_covid_files\n",
        "\n",
        "missing_covid_files = covid_file_check()"
      ],
      "metadata": {
        "colab": {
          "base_uri": "https://localhost:8080/"
        },
        "id": "CAeTR8lH5kVB",
        "outputId": "f5609f17-1f63-4f84-eb32-89cb7534747b"
      },
      "execution_count": null,
      "outputs": [
        {
          "output_type": "stream",
          "name": "stdout",
          "text": [
            "Image 0\n",
            "Total covid images: 1252\n"
          ]
        }
      ]
    },
    {
      "cell_type": "code",
      "source": [
        "# framework for filename - \"Non-Covid (###).png\"\n",
        "def noncovid_file_check():\n",
        "  true = 0\n",
        "  false = 0\n",
        "  missing_noncovid_files = []\n",
        "  for i in range(len(os.listdir(noncovid_dir))+1):\n",
        "    if f'Non-Covid ({i}).png' in os.listdir(noncovid_dir):\n",
        "      true += 1\n",
        "    else:\n",
        "      false += 1\n",
        "      print(f'Image {i}')\n",
        "      missing_noncovid_files.append(i)\n",
        "  print(f'Total noncovid images: {(true+false)-1}')\n",
        "  return missing_noncovid_files\n",
        "\n",
        "missing_noncovid_files = noncovid_file_check()"
      ],
      "metadata": {
        "colab": {
          "base_uri": "https://localhost:8080/"
        },
        "id": "pBcWJnBr6oso",
        "outputId": "008f27a1-772e-4dff-a274-6c9c06e06612"
      },
      "execution_count": null,
      "outputs": [
        {
          "output_type": "stream",
          "name": "stdout",
          "text": [
            "Image 0\n",
            "Image 151\n",
            "Total noncovid images: 1229\n"
          ]
        }
      ]
    },
    {
      "cell_type": "code",
      "source": [
        "os.chdir(main_dir) # changing back to wd\n",
        "os.getcwd()"
      ],
      "metadata": {
        "colab": {
          "base_uri": "https://localhost:8080/",
          "height": 35
        },
        "id": "ANlcz7_O9DT4",
        "outputId": "1d677466-43b7-4ae5-c232-6c432bff793f"
      },
      "execution_count": null,
      "outputs": [
        {
          "output_type": "execute_result",
          "data": {
            "text/plain": [
              "'/content/gDrive/MyDrive/School/ADS654Z1/Final_project'"
            ],
            "application/vnd.google.colaboratory.intrinsic+json": {
              "type": "string"
            }
          },
          "metadata": {},
          "execution_count": 15
        }
      ]
    },
    {
      "cell_type": "markdown",
      "source": [
        "### 1.4 Splitting the training and testing data set"
      ],
      "metadata": {
        "id": "8QkTfeKmyJkt"
      }
    },
    {
      "cell_type": "markdown",
      "source": [
        "**Plan is to use 20% for test data set -> will take 20% from covid datasets**"
      ],
      "metadata": {
        "id": "iB-b-X2iyiUa"
      }
    },
    {
      "cell_type": "code",
      "source": [
        "covid_dir"
      ],
      "metadata": {
        "colab": {
          "base_uri": "https://localhost:8080/",
          "height": 35
        },
        "id": "RMu60y9aFF3q",
        "outputId": "09f20c43-c627-4d09-9f94-ee26c97d95b1"
      },
      "execution_count": null,
      "outputs": [
        {
          "output_type": "execute_result",
          "data": {
            "text/plain": [
              "'/content/gDrive/MyDrive/School/ADS654Z1/Final_project/Covid_Images/COVID'"
            ],
            "application/vnd.google.colaboratory.intrinsic+json": {
              "type": "string"
            }
          },
          "metadata": {},
          "execution_count": 16
        }
      ]
    },
    {
      "cell_type": "code",
      "source": [
        "print(f'20% of covid images that will be used for testing: {round(len(os.listdir(covid_dir))*0.20,0)}')\n",
        "len(os.listdir(covid_dir)) - 250 # training images"
      ],
      "metadata": {
        "id": "VUkMKCAVFBRy",
        "colab": {
          "base_uri": "https://localhost:8080/"
        },
        "outputId": "0068685e-04b7-4d59-89f5-777916ae5405"
      },
      "execution_count": null,
      "outputs": [
        {
          "output_type": "stream",
          "name": "stdout",
          "text": [
            "20% of covid images that will be used for testing: 250.0\n"
          ]
        },
        {
          "output_type": "execute_result",
          "data": {
            "text/plain": [
              "1002"
            ]
          },
          "metadata": {},
          "execution_count": 17
        }
      ]
    },
    {
      "cell_type": "markdown",
      "source": [
        "**There are no missing covid files within the full range of covid images**"
      ],
      "metadata": {
        "id": "9xAf4R2nFzG6"
      }
    },
    {
      "cell_type": "code",
      "source": [
        "missing_covid_files # no missing images in range"
      ],
      "metadata": {
        "colab": {
          "base_uri": "https://localhost:8080/"
        },
        "id": "ffiPYbIMFwJs",
        "outputId": "e8bdb292-aa22-4426-d2a0-7d1b3e9adc59"
      },
      "execution_count": null,
      "outputs": [
        {
          "output_type": "execute_result",
          "data": {
            "text/plain": [
              "[0]"
            ]
          },
          "metadata": {},
          "execution_count": 18
        }
      ]
    },
    {
      "cell_type": "code",
      "source": [
        "### Training covid images list\n",
        "def covid_training_img_list(): # no restrictions\n",
        "  covid_train_imgs_list = []\n",
        "  for ix,i in enumerate(range(1002+1)): \n",
        "    if ix == 0:\n",
        "      continue\n",
        "    else:\n",
        "      src_fname = f'Covid ({i}).png'\n",
        "      covid_train_imgs_list.append(src_fname)\n",
        "  return covid_train_imgs_list\n",
        "\n",
        "def covid_test_img_list():\n",
        "  covid_test_imgs_list = []\n",
        "  for ix,i in enumerate(range(1003,1253)):\n",
        "    src_fname = f'Covid ({i}).png'\n",
        "    covid_test_imgs_list.append(src_fname)\n",
        "  return covid_test_imgs_list\n",
        "\n",
        "covid_train_imgs_list = covid_training_img_list()\n",
        "covid_test_imgs_list = covid_test_img_list()"
      ],
      "metadata": {
        "id": "jsx01niPFiy7"
      },
      "execution_count": null,
      "outputs": []
    },
    {
      "cell_type": "markdown",
      "source": [
        "**Plan is to use 20% for test data set -> will take 20% from non-covid datasets**"
      ],
      "metadata": {
        "id": "kuiQIh3qIpz0"
      }
    },
    {
      "cell_type": "code",
      "source": [
        "noncovid_dir"
      ],
      "metadata": {
        "colab": {
          "base_uri": "https://localhost:8080/",
          "height": 35
        },
        "id": "MYVtHxc6I5Or",
        "outputId": "c4786c00-a813-4ffe-fffc-34a546817fc3"
      },
      "execution_count": null,
      "outputs": [
        {
          "output_type": "execute_result",
          "data": {
            "text/plain": [
              "'/content/gDrive/MyDrive/School/ADS654Z1/Final_project/Covid_Images/non-COVID'"
            ],
            "application/vnd.google.colaboratory.intrinsic+json": {
              "type": "string"
            }
          },
          "metadata": {},
          "execution_count": 20
        }
      ]
    },
    {
      "cell_type": "code",
      "source": [
        "print(f'20% of covid images that will be used for testing: {round(len(os.listdir(noncovid_dir))*0.20,0)}')\n",
        "len(os.listdir(noncovid_dir)) - 246 # training images"
      ],
      "metadata": {
        "colab": {
          "base_uri": "https://localhost:8080/"
        },
        "id": "gYoKSGVJI6r_",
        "outputId": "71b49427-737a-43bb-f32d-af8fac63137c"
      },
      "execution_count": null,
      "outputs": [
        {
          "output_type": "stream",
          "name": "stdout",
          "text": [
            "20% of covid images that will be used for testing: 246.0\n"
          ]
        },
        {
          "output_type": "execute_result",
          "data": {
            "text/plain": [
              "983"
            ]
          },
          "metadata": {},
          "execution_count": 21
        }
      ]
    },
    {
      "cell_type": "markdown",
      "source": [
        "**There is one missing covid file image within the full range of covid images**"
      ],
      "metadata": {
        "id": "h8p2hV_yIL8P"
      }
    },
    {
      "cell_type": "code",
      "source": [
        "missing_noncovid_files # one missing image in range"
      ],
      "metadata": {
        "colab": {
          "base_uri": "https://localhost:8080/"
        },
        "id": "gLqJ-pM5HsWG",
        "outputId": "6cb20654-5fbd-4a27-cd8c-c09035637b09"
      },
      "execution_count": null,
      "outputs": [
        {
          "output_type": "execute_result",
          "data": {
            "text/plain": [
              "[0, 151]"
            ]
          },
          "metadata": {},
          "execution_count": 22
        }
      ]
    },
    {
      "cell_type": "code",
      "source": [
        "def noncovid_training_img_list():\n",
        "  noncovid_train_imgs_list = []\n",
        "  for ix,i in enumerate(range(983+1)):\n",
        "    if i in missing_noncovid_files:\n",
        "      continue\n",
        "    else:\n",
        "      src_fname = f'Non-Covid ({i}).png'\n",
        "      noncovid_train_imgs_list.append(src_fname)\n",
        "  return noncovid_train_imgs_list\n",
        "\n",
        "def noncovid_testing_img_list():\n",
        "  noncovid_test_imgs_list = []\n",
        "  for ix,i in enumerate(range(984,1231)): # range should be from image 984 to 1229\n",
        "    src_fname = f'Non-Covid ({i}).png'\n",
        "    noncovid_test_imgs_list.append(src_fname)\n",
        "  return noncovid_test_imgs_list\n",
        "\n",
        "noncovid_train_imgs_list = noncovid_training_img_list()\n",
        "noncovid_test_imgs_list = noncovid_testing_img_list()"
      ],
      "metadata": {
        "id": "WmfeuskMIJro"
      },
      "execution_count": null,
      "outputs": []
    },
    {
      "cell_type": "markdown",
      "source": [
        "**Checking that the directories contain all image filenamese**"
      ],
      "metadata": {
        "id": "pcm8O5k7fwE_"
      }
    },
    {
      "cell_type": "code",
      "source": [
        "print(f'Total covid images: {len(covid_train_imgs_list) + len(covid_test_imgs_list)}')\n",
        "print(f'Total noncovid images: {len(noncovid_train_imgs_list) + len(noncovid_test_imgs_list)}')"
      ],
      "metadata": {
        "colab": {
          "base_uri": "https://localhost:8080/"
        },
        "id": "34T8iV4WfL_8",
        "outputId": "dc180f3e-f7cf-40b2-bd1f-0e002a04854f"
      },
      "execution_count": null,
      "outputs": [
        {
          "output_type": "stream",
          "name": "stdout",
          "text": [
            "Total covid images: 1252\n",
            "Total noncovid images: 1229\n"
          ]
        }
      ]
    },
    {
      "cell_type": "code",
      "source": [
        "noncovid_train_imgs_list[-5:], noncovid_test_imgs_list[:5]"
      ],
      "metadata": {
        "colab": {
          "base_uri": "https://localhost:8080/"
        },
        "id": "qNxRmbpzfVWG",
        "outputId": "66e9e2b5-b979-4aae-e4ef-0e56ba8bddba"
      },
      "execution_count": null,
      "outputs": [
        {
          "output_type": "execute_result",
          "data": {
            "text/plain": [
              "(['Non-Covid (979).png',\n",
              "  'Non-Covid (980).png',\n",
              "  'Non-Covid (981).png',\n",
              "  'Non-Covid (982).png',\n",
              "  'Non-Covid (983).png'],\n",
              " ['Non-Covid (984).png',\n",
              "  'Non-Covid (985).png',\n",
              "  'Non-Covid (986).png',\n",
              "  'Non-Covid (987).png',\n",
              "  'Non-Covid (988).png'])"
            ]
          },
          "metadata": {},
          "execution_count": 25
        }
      ]
    },
    {
      "cell_type": "code",
      "source": [
        "# checking to what the last file names are for noncovid tests...\n",
        "def digit_finder(list_input):\n",
        "  number = []\n",
        "  for i in list_input:\n",
        "    if i.isdigit():\n",
        "      number.append(i)\n",
        "    else:\n",
        "      continue\n",
        "  return int(''.join(number))\n",
        "\n",
        "non_list = []  \n",
        "for i in os.listdir(noncovid_dir):\n",
        "  num = digit_finder(i)\n",
        "  non_list.append(num)"
      ],
      "metadata": {
        "id": "0MoCDbxKf0b5"
      },
      "execution_count": null,
      "outputs": []
    },
    {
      "cell_type": "code",
      "source": [
        "non_list.sort()\n",
        "non_list[-5:]"
      ],
      "metadata": {
        "colab": {
          "base_uri": "https://localhost:8080/"
        },
        "id": "yO59gChCiD5S",
        "outputId": "8f5bba6b-8ae4-4524-894b-da113ab60e8a"
      },
      "execution_count": null,
      "outputs": [
        {
          "output_type": "execute_result",
          "data": {
            "text/plain": [
              "[1226, 1227, 1228, 1229, 1230]"
            ]
          },
          "metadata": {},
          "execution_count": 27
        }
      ]
    },
    {
      "cell_type": "markdown",
      "source": [
        "*Notes:* Generating list of names was successfully created. Can now use the shutil package to copy over images into their respective directories..."
      ],
      "metadata": {
        "id": "40ylMue0lpnH"
      }
    },
    {
      "cell_type": "markdown",
      "source": [
        "### 1.5 Moving images into subdirectories"
      ],
      "metadata": {
        "id": "tGkO53CZ5WJD"
      }
    },
    {
      "cell_type": "code",
      "source": [
        "### from covid_dir -> train_dir & test_dir \n",
        "### from noncovid_dir -> train_dir & test_dir\n",
        "os.chdir(train_test_dir)\n",
        "os.getcwd() # changing working directory"
      ],
      "metadata": {
        "colab": {
          "base_uri": "https://localhost:8080/",
          "height": 35
        },
        "id": "NK8v9Kg7l29p",
        "outputId": "d832f947-d5fc-4a51-9958-400bdf81d273"
      },
      "execution_count": null,
      "outputs": [
        {
          "output_type": "execute_result",
          "data": {
            "text/plain": [
              "'/content/gDrive/MyDrive/School/ADS654Z1/Final_project/archive'"
            ],
            "application/vnd.google.colaboratory.intrinsic+json": {
              "type": "string"
            }
          },
          "metadata": {},
          "execution_count": 28
        }
      ]
    },
    {
      "cell_type": "code",
      "source": [
        "train_dir = os.path.join(train_test_dir,'Train') # model training directory (archive)\n",
        "test_dir = os.path.join(train_test_dir,'Test') # model testing directory (archive)"
      ],
      "metadata": {
        "id": "U_3rPtJs4qP3"
      },
      "execution_count": null,
      "outputs": []
    },
    {
      "cell_type": "code",
      "source": [
        "### covid_train_imgs_list, covid_test_imgs_list\n",
        "### noncovid_train_imgs_list, noncovid_train_imgs_list\n",
        "len(covid_train_imgs_list) + len(covid_test_imgs_list), len(noncovid_train_imgs_list) + len(noncovid_test_imgs_list)"
      ],
      "metadata": {
        "colab": {
          "base_uri": "https://localhost:8080/"
        },
        "id": "_BtJT2065361",
        "outputId": "43459474-253e-4671-f0c0-02e7341d2939"
      },
      "execution_count": null,
      "outputs": [
        {
          "output_type": "execute_result",
          "data": {
            "text/plain": [
              "(1252, 1229)"
            ]
          },
          "metadata": {},
          "execution_count": 30
        }
      ]
    },
    {
      "cell_type": "markdown",
      "source": [
        "**Covid Image Transfer**"
      ],
      "metadata": {
        "id": "l21wZkWh7Ofc"
      }
    },
    {
      "cell_type": "code",
      "source": [
        "train_dir, test_dir"
      ],
      "metadata": {
        "colab": {
          "base_uri": "https://localhost:8080/"
        },
        "id": "JdUB1muA79ic",
        "outputId": "8736c147-f198-489c-f4c4-f36ddd7d7dc7"
      },
      "execution_count": null,
      "outputs": [
        {
          "output_type": "execute_result",
          "data": {
            "text/plain": [
              "('/content/gDrive/MyDrive/School/ADS654Z1/Final_project/archive/Train',\n",
              " '/content/gDrive/MyDrive/School/ADS654Z1/Final_project/archive/Test')"
            ]
          },
          "metadata": {},
          "execution_count": 31
        }
      ]
    },
    {
      "cell_type": "code",
      "source": [
        "# covid train\n",
        "def covid_train_transfer():\n",
        "  for ix,i in enumerate(covid_train_imgs_list): # covid training images\n",
        "    src = os.path.join(covid_dir,i)\n",
        "    dst = os.path.join(train_dir,'Covid',i) # covid subdir in train\n",
        "    shutil.copy(src,dst)\n",
        "\n",
        "# covid test\n",
        "def covid_test_transfer():\n",
        "  for ix,i in enumerate(covid_test_imgs_list): # covid test images\n",
        "    src = os.path.join(covid_dir,i)\n",
        "    dst = os.path.join(test_dir,'Covid',i) # covid subdir in test\n",
        "    shutil.copy(src,dst)"
      ],
      "metadata": {
        "id": "F4Z-bSyp6lpl"
      },
      "execution_count": null,
      "outputs": []
    },
    {
      "cell_type": "code",
      "source": [
        "# covid_train_transfer()\n",
        "# covid_test_transfer() # ~ 10 min runtime"
      ],
      "metadata": {
        "id": "NVBDjQzTAB0S"
      },
      "execution_count": null,
      "outputs": []
    },
    {
      "cell_type": "markdown",
      "source": [
        "**Noncovid Image Transfer**"
      ],
      "metadata": {
        "id": "Dk-wiVNz9OyC"
      }
    },
    {
      "cell_type": "code",
      "source": [
        "# noncovid train\n",
        "def noncovid_train_transfer():\n",
        "  for ix,i in enumerate(noncovid_train_imgs_list): # covid training images\n",
        "    src = os.path.join(noncovid_dir,i)\n",
        "    dst = os.path.join(train_dir,'Non_Covid',i) # covid subdir in train\n",
        "    shutil.copy(src,dst)\n",
        "\n",
        "# noncovid test\n",
        "def noncovid_test_transfer():\n",
        "  for ix,i in enumerate(noncovid_test_imgs_list): # covid test images\n",
        "    src = os.path.join(noncovid_dir,i)\n",
        "    dst = os.path.join(test_dir,'Non_Covid',i) # covid subdir in test\n",
        "    shutil.copy(src,dst)"
      ],
      "metadata": {
        "id": "-mwKl7-P9SI6"
      },
      "execution_count": null,
      "outputs": []
    },
    {
      "cell_type": "code",
      "source": [
        "# noncovid_train_transfer() ~ 8 mins runtime"
      ],
      "metadata": {
        "id": "3Chr2W4Q7dsN"
      },
      "execution_count": null,
      "outputs": []
    },
    {
      "cell_type": "code",
      "source": [
        "# noncovid_test_transfer() ~ 2 mins runtime"
      ],
      "metadata": {
        "id": "_6yjW4oNAO5B"
      },
      "execution_count": null,
      "outputs": []
    },
    {
      "cell_type": "code",
      "source": [
        "for dir,root,files in os.walk(train_dir):\n",
        "  print(f'Directory Name: {dir}  |   Number of images: {len(files)}')"
      ],
      "metadata": {
        "colab": {
          "base_uri": "https://localhost:8080/"
        },
        "id": "_a4BMw18Cv2u",
        "outputId": "670bc40e-9012-43ae-8685-a90ad29db525"
      },
      "execution_count": null,
      "outputs": [
        {
          "output_type": "stream",
          "name": "stdout",
          "text": [
            "Directory Name: /content/gDrive/MyDrive/School/ADS654Z1/Final_project/archive/Train  |   Number of images: 0\n",
            "Directory Name: /content/gDrive/MyDrive/School/ADS654Z1/Final_project/archive/Train/Covid  |   Number of images: 1002\n",
            "Directory Name: /content/gDrive/MyDrive/School/ADS654Z1/Final_project/archive/Train/Non_Covid  |   Number of images: 982\n"
          ]
        }
      ]
    },
    {
      "cell_type": "code",
      "source": [
        "for dir,root,files in os.walk(test_dir):\n",
        "  print(f'Directory Name: {dir}   |   Number of images: {len(files)}')"
      ],
      "metadata": {
        "colab": {
          "base_uri": "https://localhost:8080/"
        },
        "id": "ylx9YTI5CzKw",
        "outputId": "3bfb42ea-1518-4665-fd95-a834350244c8"
      },
      "execution_count": null,
      "outputs": [
        {
          "output_type": "stream",
          "name": "stdout",
          "text": [
            "Directory Name: /content/gDrive/MyDrive/School/ADS654Z1/Final_project/archive/Test   |   Number of images: 0\n",
            "Directory Name: /content/gDrive/MyDrive/School/ADS654Z1/Final_project/archive/Test/Covid   |   Number of images: 250\n",
            "Directory Name: /content/gDrive/MyDrive/School/ADS654Z1/Final_project/archive/Test/Non_Covid   |   Number of images: 247\n"
          ]
        }
      ]
    },
    {
      "cell_type": "code",
      "source": [
        "1002+250,982+247 # All images has been transferred"
      ],
      "metadata": {
        "colab": {
          "base_uri": "https://localhost:8080/"
        },
        "id": "fcwAskYgDoqy",
        "outputId": "8a99afec-f491-4091-fee3-24d382d47c2f"
      },
      "execution_count": null,
      "outputs": [
        {
          "output_type": "execute_result",
          "data": {
            "text/plain": [
              "(1252, 1229)"
            ]
          },
          "metadata": {},
          "execution_count": 39
        }
      ]
    },
    {
      "cell_type": "markdown",
      "source": [
        "### 2.1 Importing Images from directory "
      ],
      "metadata": {
        "id": "_V0rYF_TD18K"
      }
    },
    {
      "cell_type": "code",
      "source": [
        "train_dir"
      ],
      "metadata": {
        "colab": {
          "base_uri": "https://localhost:8080/",
          "height": 35
        },
        "id": "xpZ192zyHs1x",
        "outputId": "2167d48b-cd84-47b3-d016-e059990072dd"
      },
      "execution_count": null,
      "outputs": [
        {
          "output_type": "execute_result",
          "data": {
            "text/plain": [
              "'/content/gDrive/MyDrive/School/ADS654Z1/Final_project/archive/Train'"
            ],
            "application/vnd.google.colaboratory.intrinsic+json": {
              "type": "string"
            }
          },
          "metadata": {},
          "execution_count": 40
        }
      ]
    },
    {
      "cell_type": "markdown",
      "source": [
        "**Train images** \n",
        "\n",
        "With validation split"
      ],
      "metadata": {
        "id": "YKOI8XGZZPZU"
      }
    },
    {
      "cell_type": "code",
      "source": [
        "train_batch = tf.keras.utils.image_dataset_from_directory(\n",
        "    directory = train_dir, # not sure what input is needed for this attribute\n",
        "    seed = 42,\n",
        "    validation_split = 0.2, # fracction of data reserved for validation\n",
        "    subset = 'training' # not sure if this should be training, validation or both\n",
        ")"
      ],
      "metadata": {
        "colab": {
          "base_uri": "https://localhost:8080/"
        },
        "id": "wPa3cPTWECVg",
        "outputId": "f6a1ba5b-18ea-4218-b78f-8843f4d40821"
      },
      "execution_count": null,
      "outputs": [
        {
          "output_type": "stream",
          "name": "stdout",
          "text": [
            "Found 1984 files belonging to 2 classes.\n",
            "Using 1588 files for training.\n"
          ]
        }
      ]
    },
    {
      "cell_type": "markdown",
      "source": [
        "**Test images**"
      ],
      "metadata": {
        "id": "daydhFXPZO6F"
      }
    },
    {
      "cell_type": "code",
      "source": [
        "test_dir"
      ],
      "metadata": {
        "colab": {
          "base_uri": "https://localhost:8080/",
          "height": 35
        },
        "id": "DYygKnd5eZar",
        "outputId": "cd34111b-8ace-4fa9-bbbd-a6f51890ac4e"
      },
      "execution_count": null,
      "outputs": [
        {
          "output_type": "execute_result",
          "data": {
            "text/plain": [
              "'/content/gDrive/MyDrive/School/ADS654Z1/Final_project/archive/Test'"
            ],
            "application/vnd.google.colaboratory.intrinsic+json": {
              "type": "string"
            }
          },
          "metadata": {},
          "execution_count": 80
        }
      ]
    },
    {
      "cell_type": "code",
      "source": [
        "test_batch = tf.keras.utils.image_dataset_from_directory(\n",
        "    directory = test_dir,\n",
        "    seed = 42\n",
        ")"
      ],
      "metadata": {
        "colab": {
          "base_uri": "https://localhost:8080/"
        },
        "id": "Ba9DtR5ueUUd",
        "outputId": "0f512029-3300-4e4d-c28e-362e4e16989e"
      },
      "execution_count": null,
      "outputs": [
        {
          "output_type": "stream",
          "name": "stdout",
          "text": [
            "Found 497 files belonging to 2 classes.\n"
          ]
        }
      ]
    },
    {
      "cell_type": "code",
      "source": [
        "train_batch.class_names, test_batch.class_names"
      ],
      "metadata": {
        "colab": {
          "base_uri": "https://localhost:8080/"
        },
        "id": "8FOdiVKDX86I",
        "outputId": "77457cef-9c55-4355-9ba1-f2dd9b369cd2"
      },
      "execution_count": null,
      "outputs": [
        {
          "output_type": "execute_result",
          "data": {
            "text/plain": [
              "(['Covid', 'Non_Covid'], ['Covid', 'Non_Covid'])"
            ]
          },
          "metadata": {},
          "execution_count": 84
        }
      ]
    },
    {
      "cell_type": "code",
      "source": [
        "fig = plt.figure(figsize = (6,6))\n",
        "for imgs,labels in train_batch.take(1):\n",
        "  for i in range(4):\n",
        "    ax = plt.subplot(2,2,i+1)\n",
        "    plt.imshow(imgs[i].numpy().astype('int'))\n",
        "    plt.title(train_batch.class_names[labels[i]])\n",
        "    plt.axis('off')"
      ],
      "metadata": {
        "colab": {
          "base_uri": "https://localhost:8080/",
          "height": 521
        },
        "id": "3ZRc-LcLXfDq",
        "outputId": "a6fd5980-7314-4db5-c07a-ca04415d48f0"
      },
      "execution_count": null,
      "outputs": [
        {
          "output_type": "display_data",
          "data": {
            "text/plain": [
              "<Figure size 600x600 with 4 Axes>"
            ],
            "image/png": "[encoded data removed]"
          },
          "metadata": {}
        }
      ]
    },
    {
      "cell_type": "markdown",
      "source": [
        "### 2.2 Preparing the training images and label iterator"
      ],
      "metadata": {
        "id": "aFbO5S8ziTgV"
      }
    },
    {
      "cell_type": "code",
      "source": [
        "train_images,train_labels = next(iter(train_batch))"
      ],
      "metadata": {
        "id": "EyvqG07PfqBH"
      },
      "execution_count": null,
      "outputs": []
    },
    {
      "cell_type": "markdown",
      "source": [
        "### 3.1 Build CNN Model"
      ],
      "metadata": {
        "id": "rdLBCF-GkA8R"
      }
    },
    {
      "cell_type": "code",
      "source": [
        "input_layer = tf.keras.Input(shape = train_images.shape[1:], name = 'input_layer')\n",
        "rescale_layer = tf.keras.layers.Rescaling(scale = 1./255, name = 'rescaling_layer')(input_layer) ### maybe add a padding layer?\n",
        "conv_layerb1_1 = tf.keras.layers.Conv2D(filters = 32, kernel_size = (3,3), padding = 'same', activation = 'relu', name = 'conv2d_layerb1_1')(rescale_layer)\n",
        "conv_layerb1_2 = tf.keras.layers.Conv2D(filters = 32, kernel_size = (3,3), padding = 'same', activation = 'relu', name = 'conv2d_layerb1_2')(conv_layerb1_1)\n",
        "pool_layerb1_1 = tf.keras.layers.MaxPool2D(pool_size = (2,2), strides = 2, name = 'max_pool_layerb1_1')(conv_layerb1_2)\n",
        "batch_norm_layer1 = tf.keras.layers.BatchNormalization(name = 'batch_norm_layer1')(pool_layerb1_1)\n",
        "#continue pattern"
      ],
      "metadata": {
        "id": "JCbD3slmk3bU"
      },
      "execution_count": null,
      "outputs": []
    },
    {
      "cell_type": "code",
      "source": [
        "cnn_model = tf.keras.Model(inputs = input_layer, outputs = batch_norm_layer1, name = 'kl_el_cnn_modelv1')"
      ],
      "metadata": {
        "id": "hQdPmLFtqe0n"
      },
      "execution_count": null,
      "outputs": []
    },
    {
      "cell_type": "code",
      "source": [
        "cnn_model.summary()"
      ],
      "metadata": {
        "colab": {
          "base_uri": "https://localhost:8080/"
        },
        "id": "7-d8FYP6qy-a",
        "outputId": "d7c1b295-2555-4b53-fa83-bc197ab94d95"
      },
      "execution_count": null,
      "outputs": [
        {
          "output_type": "stream",
          "name": "stdout",
          "text": [
            "Model: \"kl_el_cnn_modelv1\"\n",
            "_________________________________________________________________\n",
            " Layer (type)                Output Shape              Param #   \n",
            "=================================================================\n",
            " input_layer (InputLayer)    [(None, 256, 256, 3)]     0         \n",
            "                                                                 \n",
            " rescaling_layer (Rescaling)  (None, 256, 256, 3)      0         \n",
            "                                                                 \n",
            " conv2d_layerb1_1 (Conv2D)   (None, 256, 256, 32)      896       \n",
            "                                                                 \n",
            " conv2d_layerb1_2 (Conv2D)   (None, 256, 256, 32)      9248      \n",
            "                                                                 \n",
            " max_pool_layerb1_1 (MaxPool  (None, 128, 128, 32)     0         \n",
            " ing2D)                                                          \n",
            "                                                                 \n",
            " batch_norm_layer1 (BatchNor  (None, 128, 128, 32)     128       \n",
            " malization)                                                     \n",
            "                                                                 \n",
            "=================================================================\n",
            "Total params: 10,272\n",
            "Trainable params: 10,208\n",
            "Non-trainable params: 64\n",
            "_________________________________________________________________\n"
          ]
        }
      ]
    },
    {
      "cell_type": "markdown",
      "source": [
        "*Notes:* Can add data augmentation, dropout layers, or batch normalization to combat overfitting\n",
        "\n",
        "- Will need to flatten, dense layer, and the output should be a single output using some kind of classificaiton activation function -> sigmoid should be fine\n",
        "\n",
        "- Adding more padding layers should increase overall model accuracy"
      ],
      "metadata": {
        "id": "8rqt_ZnGlkUn"
      }
    },
    {
      "cell_type": "code",
      "source": [
        "# resnet50_model = tf.keras.applications.ResNet50()\n",
        "#     include_top = True\n",
        "# )"
      ],
      "metadata": {
        "colab": {
          "base_uri": "https://localhost:8080/"
        },
        "id": "CEH8eWdhics5",
        "outputId": "8bba3445-74e2-405d-c036-169efd551108"
      },
      "execution_count": null,
      "outputs": [
        {
          "output_type": "stream",
          "name": "stdout",
          "text": [
            "Downloading data from https://storage.googleapis.com/tensorflow/keras-applications/resnet/resnet50_weights_tf_dim_ordering_tf_kernels.h5\n",
            "102967424/102967424 [==============================] - 4s 0us/step\n"
          ]
        }
      ]
    },
    {
      "cell_type": "code",
      "source": [
        "# resnet50_model.summary()"
      ],
      "metadata": {
        "colab": {
          "base_uri": "https://localhost:8080/"
        },
        "id": "3NI5F-DzjLlP",
        "outputId": "c6752b94-0055-40ce-95f2-cac4e8b93c4d"
      },
      "execution_count": null,
      "outputs": [
        {
          "output_type": "stream",
          "name": "stdout",
          "text": [
            "Model: \"resnet50\"\n",
            "__________________________________________________________________________________________________\n",
            " Layer (type)                   Output Shape         Param #     Connected to                     \n",
            "==================================================================================================\n",
            " input_1 (InputLayer)           [(None, 224, 224, 3  0           []                               \n",
            "                                )]                                                                \n",
            "                                                                                                  \n",
            " conv1_pad (ZeroPadding2D)      (None, 230, 230, 3)  0           ['input_1[0][0]']                \n",
            "                                                                                                  \n",
            " conv1_conv (Conv2D)            (None, 112, 112, 64  9472        ['conv1_pad[0][0]']              \n",
            "                                )                                                                 \n",
            "                                                                                                  \n",
            " conv1_bn (BatchNormalization)  (None, 112, 112, 64  256         ['conv1_conv[0][0]']             \n",
            "                                )                                                                 \n",
            "                                                                                                  \n",
            " conv1_relu (Activation)        (None, 112, 112, 64  0           ['conv1_bn[0][0]']               \n",
            "                                )                                                                 \n",
            "                                                                                                  \n",
            " pool1_pad (ZeroPadding2D)      (None, 114, 114, 64  0           ['conv1_relu[0][0]']             \n",
            "                                )                                                                 \n",
            "                                                                                                  \n",
            " pool1_pool (MaxPooling2D)      (None, 56, 56, 64)   0           ['pool1_pad[0][0]']              \n",
            "                                                                                                  \n",
            " conv2_block1_1_conv (Conv2D)   (None, 56, 56, 64)   4160        ['pool1_pool[0][0]']             \n",
            "                                                                                                  \n",
            " conv2_block1_1_bn (BatchNormal  (None, 56, 56, 64)  256         ['conv2_block1_1_conv[0][0]']    \n",
            " ization)                                                                                         \n",
            "                                                                                                  \n",
            " conv2_block1_1_relu (Activatio  (None, 56, 56, 64)  0           ['conv2_block1_1_bn[0][0]']      \n",
            " n)                                                                                               \n",
            "                                                                                                  \n",
            " conv2_block1_2_conv (Conv2D)   (None, 56, 56, 64)   36928       ['conv2_block1_1_relu[0][0]']    \n",
            "                                                                                                  \n",
            " conv2_block1_2_bn (BatchNormal  (None, 56, 56, 64)  256         ['conv2_block1_2_conv[0][0]']    \n",
            " ization)                                                                                         \n",
            "                                                                                                  \n",
            " conv2_block1_2_relu (Activatio  (None, 56, 56, 64)  0           ['conv2_block1_2_bn[0][0]']      \n",
            " n)                                                                                               \n",
            "                                                                                                  \n",
            " conv2_block1_0_conv (Conv2D)   (None, 56, 56, 256)  16640       ['pool1_pool[0][0]']             \n",
            "                                                                                                  \n",
            " conv2_block1_3_conv (Conv2D)   (None, 56, 56, 256)  16640       ['conv2_block1_2_relu[0][0]']    \n",
            "                                                                                                  \n",
            " conv2_block1_0_bn (BatchNormal  (None, 56, 56, 256)  1024       ['conv2_block1_0_conv[0][0]']    \n",
            " ization)                                                                                         \n",
            "                                                                                                  \n",
            " conv2_block1_3_bn (BatchNormal  (None, 56, 56, 256)  1024       ['conv2_block1_3_conv[0][0]']    \n",
            " ization)                                                                                         \n",
            "                                                                                                  \n",
            " conv2_block1_add (Add)         (None, 56, 56, 256)  0           ['conv2_block1_0_bn[0][0]',      \n",
            "                                                                  'conv2_block1_3_bn[0][0]']      \n",
            "                                                                                                  \n",
            " conv2_block1_out (Activation)  (None, 56, 56, 256)  0           ['conv2_block1_add[0][0]']       \n",
            "                                                                                                  \n",
            " conv2_block2_1_conv (Conv2D)   (None, 56, 56, 64)   16448       ['conv2_block1_out[0][0]']       \n",
            "                                                                                                  \n",
            " conv2_block2_1_bn (BatchNormal  (None, 56, 56, 64)  256         ['conv2_block2_1_conv[0][0]']    \n",
            " ization)                                                                                         \n",
            "                                                                                                  \n",
            " conv2_block2_1_relu (Activatio  (None, 56, 56, 64)  0           ['conv2_block2_1_bn[0][0]']      \n",
            " n)                                                                                               \n",
            "                                                                                                  \n",
            " conv2_block2_2_conv (Conv2D)   (None, 56, 56, 64)   36928       ['conv2_block2_1_relu[0][0]']    \n",
            "                                                                                                  \n",
            " conv2_block2_2_bn (BatchNormal  (None, 56, 56, 64)  256         ['conv2_block2_2_conv[0][0]']    \n",
            " ization)                                                                                         \n",
            "                                                                                                  \n",
            " conv2_block2_2_relu (Activatio  (None, 56, 56, 64)  0           ['conv2_block2_2_bn[0][0]']      \n",
            " n)                                                                                               \n",
            "                                                                                                  \n",
            " conv2_block2_3_conv (Conv2D)   (None, 56, 56, 256)  16640       ['conv2_block2_2_relu[0][0]']    \n",
            "                                                                                                  \n",
            " conv2_block2_3_bn (BatchNormal  (None, 56, 56, 256)  1024       ['conv2_block2_3_conv[0][0]']    \n",
            " ization)                                                                                         \n",
            "                                                                                                  \n",
            " conv2_block2_add (Add)         (None, 56, 56, 256)  0           ['conv2_block1_out[0][0]',       \n",
            "                                                                  'conv2_block2_3_bn[0][0]']      \n",
            "                                                                                                  \n",
            " conv2_block2_out (Activation)  (None, 56, 56, 256)  0           ['conv2_block2_add[0][0]']       \n",
            "                                                                                                  \n",
            " conv2_block3_1_conv (Conv2D)   (None, 56, 56, 64)   16448       ['conv2_block2_out[0][0]']       \n",
            "                                                                                                  \n",
            " conv2_block3_1_bn (BatchNormal  (None, 56, 56, 64)  256         ['conv2_block3_1_conv[0][0]']    \n",
            " ization)                                                                                         \n",
            "                                                                                                  \n",
            " conv2_block3_1_relu (Activatio  (None, 56, 56, 64)  0           ['conv2_block3_1_bn[0][0]']      \n",
            " n)                                                                                               \n",
            "                                                                                                  \n",
            " conv2_block3_2_conv (Conv2D)   (None, 56, 56, 64)   36928       ['conv2_block3_1_relu[0][0]']    \n",
            "                                                                                                  \n",
            " conv2_block3_2_bn (BatchNormal  (None, 56, 56, 64)  256         ['conv2_block3_2_conv[0][0]']    \n",
            " ization)                                                                                         \n",
            "                                                                                                  \n",
            " conv2_block3_2_relu (Activatio  (None, 56, 56, 64)  0           ['conv2_block3_2_bn[0][0]']      \n",
            " n)                                                                                               \n",
            "                                                                                                  \n",
            " conv2_block3_3_conv (Conv2D)   (None, 56, 56, 256)  16640       ['conv2_block3_2_relu[0][0]']    \n",
            "                                                                                                  \n",
            " conv2_block3_3_bn (BatchNormal  (None, 56, 56, 256)  1024       ['conv2_block3_3_conv[0][0]']    \n",
            " ization)                                                                                         \n",
            "                                                                                                  \n",
            " conv2_block3_add (Add)         (None, 56, 56, 256)  0           ['conv2_block2_out[0][0]',       \n",
            "                                                                  'conv2_block3_3_bn[0][0]']      \n",
            "                                                                                                  \n",
            " conv2_block3_out (Activation)  (None, 56, 56, 256)  0           ['conv2_block3_add[0][0]']       \n",
            "                                                                                                  \n",
            " conv3_block1_1_conv (Conv2D)   (None, 28, 28, 128)  32896       ['conv2_block3_out[0][0]']       \n",
            "                                                                                                  \n",
            " conv3_block1_1_bn (BatchNormal  (None, 28, 28, 128)  512        ['conv3_block1_1_conv[0][0]']    \n",
            " ization)                                                                                         \n",
            "                                                                                                  \n",
            " conv3_block1_1_relu (Activatio  (None, 28, 28, 128)  0          ['conv3_block1_1_bn[0][0]']      \n",
            " n)                                                                                               \n",
            "                                                                                                  \n",
            " conv3_block1_2_conv (Conv2D)   (None, 28, 28, 128)  147584      ['conv3_block1_1_relu[0][0]']    \n",
            "                                                                                                  \n",
            " conv3_block1_2_bn (BatchNormal  (None, 28, 28, 128)  512        ['conv3_block1_2_conv[0][0]']    \n",
            " ization)                                                                                         \n",
            "                                                                                                  \n",
            " conv3_block1_2_relu (Activatio  (None, 28, 28, 128)  0          ['conv3_block1_2_bn[0][0]']      \n",
            " n)                                                                                               \n",
            "                                                                                                  \n",
            " conv3_block1_0_conv (Conv2D)   (None, 28, 28, 512)  131584      ['conv2_block3_out[0][0]']       \n",
            "                                                                                                  \n",
            " conv3_block1_3_conv (Conv2D)   (None, 28, 28, 512)  66048       ['conv3_block1_2_relu[0][0]']    \n",
            "                                                                                                  \n",
            " conv3_block1_0_bn (BatchNormal  (None, 28, 28, 512)  2048       ['conv3_block1_0_conv[0][0]']    \n",
            " ization)                                                                                         \n",
            "                                                                                                  \n",
            " conv3_block1_3_bn (BatchNormal  (None, 28, 28, 512)  2048       ['conv3_block1_3_conv[0][0]']    \n",
            " ization)                                                                                         \n",
            "                                                                                                  \n",
            " conv3_block1_add (Add)         (None, 28, 28, 512)  0           ['conv3_block1_0_bn[0][0]',      \n",
            "                                                                  'conv3_block1_3_bn[0][0]']      \n",
            "                                                                                                  \n",
            " conv3_block1_out (Activation)  (None, 28, 28, 512)  0           ['conv3_block1_add[0][0]']       \n",
            "                                                                                                  \n",
            " conv3_block2_1_conv (Conv2D)   (None, 28, 28, 128)  65664       ['conv3_block1_out[0][0]']       \n",
            "                                                                                                  \n",
            " conv3_block2_1_bn (BatchNormal  (None, 28, 28, 128)  512        ['conv3_block2_1_conv[0][0]']    \n",
            " ization)                                                                                         \n",
            "                                                                                                  \n",
            " conv3_block2_1_relu (Activatio  (None, 28, 28, 128)  0          ['conv3_block2_1_bn[0][0]']      \n",
            " n)                                                                                               \n",
            "                                                                                                  \n",
            " conv3_block2_2_conv (Conv2D)   (None, 28, 28, 128)  147584      ['conv3_block2_1_relu[0][0]']    \n",
            "                                                                                                  \n",
            " conv3_block2_2_bn (BatchNormal  (None, 28, 28, 128)  512        ['conv3_block2_2_conv[0][0]']    \n",
            " ization)                                                                                         \n",
            "                                                                                                  \n",
            " conv3_block2_2_relu (Activatio  (None, 28, 28, 128)  0          ['conv3_block2_2_bn[0][0]']      \n",
            " n)                                                                                               \n",
            "                                                                                                  \n",
            " conv3_block2_3_conv (Conv2D)   (None, 28, 28, 512)  66048       ['conv3_block2_2_relu[0][0]']    \n",
            "                                                                                                  \n",
            " conv3_block2_3_bn (BatchNormal  (None, 28, 28, 512)  2048       ['conv3_block2_3_conv[0][0]']    \n",
            " ization)                                                                                         \n",
            "                                                                                                  \n",
            " conv3_block2_add (Add)         (None, 28, 28, 512)  0           ['conv3_block1_out[0][0]',       \n",
            "                                                                  'conv3_block2_3_bn[0][0]']      \n",
            "                                                                                                  \n",
            " conv3_block2_out (Activation)  (None, 28, 28, 512)  0           ['conv3_block2_add[0][0]']       \n",
            "                                                                                                  \n",
            " conv3_block3_1_conv (Conv2D)   (None, 28, 28, 128)  65664       ['conv3_block2_out[0][0]']       \n",
            "                                                                                                  \n",
            " conv3_block3_1_bn (BatchNormal  (None, 28, 28, 128)  512        ['conv3_block3_1_conv[0][0]']    \n",
            " ization)                                                                                         \n",
            "                                                                                                  \n",
            " conv3_block3_1_relu (Activatio  (None, 28, 28, 128)  0          ['conv3_block3_1_bn[0][0]']      \n",
            " n)                                                                                               \n",
            "                                                                                                  \n",
            " conv3_block3_2_conv (Conv2D)   (None, 28, 28, 128)  147584      ['conv3_block3_1_relu[0][0]']    \n",
            "                                                                                                  \n",
            " conv3_block3_2_bn (BatchNormal  (None, 28, 28, 128)  512        ['conv3_block3_2_conv[0][0]']    \n",
            " ization)                                                                                         \n",
            "                                                                                                  \n",
            " conv3_block3_2_relu (Activatio  (None, 28, 28, 128)  0          ['conv3_block3_2_bn[0][0]']      \n",
            " n)                                                                                               \n",
            "                                                                                                  \n",
            " conv3_block3_3_conv (Conv2D)   (None, 28, 28, 512)  66048       ['conv3_block3_2_relu[0][0]']    \n",
            "                                                                                                  \n",
            " conv3_block3_3_bn (BatchNormal  (None, 28, 28, 512)  2048       ['conv3_block3_3_conv[0][0]']    \n",
            " ization)                                                                                         \n",
            "                                                                                                  \n",
            " conv3_block3_add (Add)         (None, 28, 28, 512)  0           ['conv3_block2_out[0][0]',       \n",
            "                                                                  'conv3_block3_3_bn[0][0]']      \n",
            "                                                                                                  \n",
            " conv3_block3_out (Activation)  (None, 28, 28, 512)  0           ['conv3_block3_add[0][0]']       \n",
            "                                                                                                  \n",
            " conv3_block4_1_conv (Conv2D)   (None, 28, 28, 128)  65664       ['conv3_block3_out[0][0]']       \n",
            "                                                                                                  \n",
            " conv3_block4_1_bn (BatchNormal  (None, 28, 28, 128)  512        ['conv3_block4_1_conv[0][0]']    \n",
            " ization)                                                                                         \n",
            "                                                                                                  \n",
            " conv3_block4_1_relu (Activatio  (None, 28, 28, 128)  0          ['conv3_block4_1_bn[0][0]']      \n",
            " n)                                                                                               \n",
            "                                                                                                  \n",
            " conv3_block4_2_conv (Conv2D)   (None, 28, 28, 128)  147584      ['conv3_block4_1_relu[0][0]']    \n",
            "                                                                                                  \n",
            " conv3_block4_2_bn (BatchNormal  (None, 28, 28, 128)  512        ['conv3_block4_2_conv[0][0]']    \n",
            " ization)                                                                                         \n",
            "                                                                                                  \n",
            " conv3_block4_2_relu (Activatio  (None, 28, 28, 128)  0          ['conv3_block4_2_bn[0][0]']      \n",
            " n)                                                                                               \n",
            "                                                                                                  \n",
            " conv3_block4_3_conv (Conv2D)   (None, 28, 28, 512)  66048       ['conv3_block4_2_relu[0][0]']    \n",
            "                                                                                                  \n",
            " conv3_block4_3_bn (BatchNormal  (None, 28, 28, 512)  2048       ['conv3_block4_3_conv[0][0]']    \n",
            " ization)                                                                                         \n",
            "                                                                                                  \n",
            " conv3_block4_add (Add)         (None, 28, 28, 512)  0           ['conv3_block3_out[0][0]',       \n",
            "                                                                  'conv3_block4_3_bn[0][0]']      \n",
            "                                                                                                  \n",
            " conv3_block4_out (Activation)  (None, 28, 28, 512)  0           ['conv3_block4_add[0][0]']       \n",
            "                                                                                                  \n",
            " conv4_block1_1_conv (Conv2D)   (None, 14, 14, 256)  131328      ['conv3_block4_out[0][0]']       \n",
            "                                                                                                  \n",
            " conv4_block1_1_bn (BatchNormal  (None, 14, 14, 256)  1024       ['conv4_block1_1_conv[0][0]']    \n",
            " ization)                                                                                         \n",
            "                                                                                                  \n",
            " conv4_block1_1_relu (Activatio  (None, 14, 14, 256)  0          ['conv4_block1_1_bn[0][0]']      \n",
            " n)                                                                                               \n",
            "                                                                                                  \n",
            " conv4_block1_2_conv (Conv2D)   (None, 14, 14, 256)  590080      ['conv4_block1_1_relu[0][0]']    \n",
            "                                                                                                  \n",
            " conv4_block1_2_bn (BatchNormal  (None, 14, 14, 256)  1024       ['conv4_block1_2_conv[0][0]']    \n",
            " ization)                                                                                         \n",
            "                                                                                                  \n",
            " conv4_block1_2_relu (Activatio  (None, 14, 14, 256)  0          ['conv4_block1_2_bn[0][0]']      \n",
            " n)                                                                                               \n",
            "                                                                                                  \n",
            " conv4_block1_0_conv (Conv2D)   (None, 14, 14, 1024  525312      ['conv3_block4_out[0][0]']       \n",
            "                                )                                                                 \n",
            "                                                                                                  \n",
            " conv4_block1_3_conv (Conv2D)   (None, 14, 14, 1024  263168      ['conv4_block1_2_relu[0][0]']    \n",
            "                                )                                                                 \n",
            "                                                                                                  \n",
            " conv4_block1_0_bn (BatchNormal  (None, 14, 14, 1024  4096       ['conv4_block1_0_conv[0][0]']    \n",
            " ization)                       )                                                                 \n",
            "                                                                                                  \n",
            " conv4_block1_3_bn (BatchNormal  (None, 14, 14, 1024  4096       ['conv4_block1_3_conv[0][0]']    \n",
            " ization)                       )                                                                 \n",
            "                                                                                                  \n",
            " conv4_block1_add (Add)         (None, 14, 14, 1024  0           ['conv4_block1_0_bn[0][0]',      \n",
            "                                )                                 'conv4_block1_3_bn[0][0]']      \n",
            "                                                                                                  \n",
            " conv4_block1_out (Activation)  (None, 14, 14, 1024  0           ['conv4_block1_add[0][0]']       \n",
            "                                )                                                                 \n",
            "                                                                                                  \n",
            " conv4_block2_1_conv (Conv2D)   (None, 14, 14, 256)  262400      ['conv4_block1_out[0][0]']       \n",
            "                                                                                                  \n",
            " conv4_block2_1_bn (BatchNormal  (None, 14, 14, 256)  1024       ['conv4_block2_1_conv[0][0]']    \n",
            " ization)                                                                                         \n",
            "                                                                                                  \n",
            " conv4_block2_1_relu (Activatio  (None, 14, 14, 256)  0          ['conv4_block2_1_bn[0][0]']      \n",
            " n)                                                                                               \n",
            "                                                                                                  \n",
            " conv4_block2_2_conv (Conv2D)   (None, 14, 14, 256)  590080      ['conv4_block2_1_relu[0][0]']    \n",
            "                                                                                                  \n",
            " conv4_block2_2_bn (BatchNormal  (None, 14, 14, 256)  1024       ['conv4_block2_2_conv[0][0]']    \n",
            " ization)                                                                                         \n",
            "                                                                                                  \n",
            " conv4_block2_2_relu (Activatio  (None, 14, 14, 256)  0          ['conv4_block2_2_bn[0][0]']      \n",
            " n)                                                                                               \n",
            "                                                                                                  \n",
            " conv4_block2_3_conv (Conv2D)   (None, 14, 14, 1024  263168      ['conv4_block2_2_relu[0][0]']    \n",
            "                                )                                                                 \n",
            "                                                                                                  \n",
            " conv4_block2_3_bn (BatchNormal  (None, 14, 14, 1024  4096       ['conv4_block2_3_conv[0][0]']    \n",
            " ization)                       )                                                                 \n",
            "                                                                                                  \n",
            " conv4_block2_add (Add)         (None, 14, 14, 1024  0           ['conv4_block1_out[0][0]',       \n",
            "                                )                                 'conv4_block2_3_bn[0][0]']      \n",
            "                                                                                                  \n",
            " conv4_block2_out (Activation)  (None, 14, 14, 1024  0           ['conv4_block2_add[0][0]']       \n",
            "                                )                                                                 \n",
            "                                                                                                  \n",
            " conv4_block3_1_conv (Conv2D)   (None, 14, 14, 256)  262400      ['conv4_block2_out[0][0]']       \n",
            "                                                                                                  \n",
            " conv4_block3_1_bn (BatchNormal  (None, 14, 14, 256)  1024       ['conv4_block3_1_conv[0][0]']    \n",
            " ization)                                                                                         \n",
            "                                                                                                  \n",
            " conv4_block3_1_relu (Activatio  (None, 14, 14, 256)  0          ['conv4_block3_1_bn[0][0]']      \n",
            " n)                                                                                               \n",
            "                                                                                                  \n",
            " conv4_block3_2_conv (Conv2D)   (None, 14, 14, 256)  590080      ['conv4_block3_1_relu[0][0]']    \n",
            "                                                                                                  \n",
            " conv4_block3_2_bn (BatchNormal  (None, 14, 14, 256)  1024       ['conv4_block3_2_conv[0][0]']    \n",
            " ization)                                                                                         \n",
            "                                                                                                  \n",
            " conv4_block3_2_relu (Activatio  (None, 14, 14, 256)  0          ['conv4_block3_2_bn[0][0]']      \n",
            " n)                                                                                               \n",
            "                                                                                                  \n",
            " conv4_block3_3_conv (Conv2D)   (None, 14, 14, 1024  263168      ['conv4_block3_2_relu[0][0]']    \n",
            "                                )                                                                 \n",
            "                                                                                                  \n",
            " conv4_block3_3_bn (BatchNormal  (None, 14, 14, 1024  4096       ['conv4_block3_3_conv[0][0]']    \n",
            " ization)                       )                                                                 \n",
            "                                                                                                  \n",
            " conv4_block3_add (Add)         (None, 14, 14, 1024  0           ['conv4_block2_out[0][0]',       \n",
            "                                )                                 'conv4_block3_3_bn[0][0]']      \n",
            "                                                                                                  \n",
            " conv4_block3_out (Activation)  (None, 14, 14, 1024  0           ['conv4_block3_add[0][0]']       \n",
            "                                )                                                                 \n",
            "                                                                                                  \n",
            " conv4_block4_1_conv (Conv2D)   (None, 14, 14, 256)  262400      ['conv4_block3_out[0][0]']       \n",
            "                                                                                                  \n",
            " conv4_block4_1_bn (BatchNormal  (None, 14, 14, 256)  1024       ['conv4_block4_1_conv[0][0]']    \n",
            " ization)                                                                                         \n",
            "                                                                                                  \n",
            " conv4_block4_1_relu (Activatio  (None, 14, 14, 256)  0          ['conv4_block4_1_bn[0][0]']      \n",
            " n)                                                                                               \n",
            "                                                                                                  \n",
            " conv4_block4_2_conv (Conv2D)   (None, 14, 14, 256)  590080      ['conv4_block4_1_relu[0][0]']    \n",
            "                                                                                                  \n",
            " conv4_block4_2_bn (BatchNormal  (None, 14, 14, 256)  1024       ['conv4_block4_2_conv[0][0]']    \n",
            " ization)                                                                                         \n",
            "                                                                                                  \n",
            " conv4_block4_2_relu (Activatio  (None, 14, 14, 256)  0          ['conv4_block4_2_bn[0][0]']      \n",
            " n)                                                                                               \n",
            "                                                                                                  \n",
            " conv4_block4_3_conv (Conv2D)   (None, 14, 14, 1024  263168      ['conv4_block4_2_relu[0][0]']    \n",
            "                                )                                                                 \n",
            "                                                                                                  \n",
            " conv4_block4_3_bn (BatchNormal  (None, 14, 14, 1024  4096       ['conv4_block4_3_conv[0][0]']    \n",
            " ization)                       )                                                                 \n",
            "                                                                                                  \n",
            " conv4_block4_add (Add)         (None, 14, 14, 1024  0           ['conv4_block3_out[0][0]',       \n",
            "                                )                                 'conv4_block4_3_bn[0][0]']      \n",
            "                                                                                                  \n",
            " conv4_block4_out (Activation)  (None, 14, 14, 1024  0           ['conv4_block4_add[0][0]']       \n",
            "                                )                                                                 \n",
            "                                                                                                  \n",
            " conv4_block5_1_conv (Conv2D)   (None, 14, 14, 256)  262400      ['conv4_block4_out[0][0]']       \n",
            "                                                                                                  \n",
            " conv4_block5_1_bn (BatchNormal  (None, 14, 14, 256)  1024       ['conv4_block5_1_conv[0][0]']    \n",
            " ization)                                                                                         \n",
            "                                                                                                  \n",
            " conv4_block5_1_relu (Activatio  (None, 14, 14, 256)  0          ['conv4_block5_1_bn[0][0]']      \n",
            " n)                                                                                               \n",
            "                                                                                                  \n",
            " conv4_block5_2_conv (Conv2D)   (None, 14, 14, 256)  590080      ['conv4_block5_1_relu[0][0]']    \n",
            "                                                                                                  \n",
            " conv4_block5_2_bn (BatchNormal  (None, 14, 14, 256)  1024       ['conv4_block5_2_conv[0][0]']    \n",
            " ization)                                                                                         \n",
            "                                                                                                  \n",
            " conv4_block5_2_relu (Activatio  (None, 14, 14, 256)  0          ['conv4_block5_2_bn[0][0]']      \n",
            " n)                                                                                               \n",
            "                                                                                                  \n",
            " conv4_block5_3_conv (Conv2D)   (None, 14, 14, 1024  263168      ['conv4_block5_2_relu[0][0]']    \n",
            "                                )                                                                 \n",
            "                                                                                                  \n",
            " conv4_block5_3_bn (BatchNormal  (None, 14, 14, 1024  4096       ['conv4_block5_3_conv[0][0]']    \n",
            " ization)                       )                                                                 \n",
            "                                                                                                  \n",
            " conv4_block5_add (Add)         (None, 14, 14, 1024  0           ['conv4_block4_out[0][0]',       \n",
            "                                )                                 'conv4_block5_3_bn[0][0]']      \n",
            "                                                                                                  \n",
            " conv4_block5_out (Activation)  (None, 14, 14, 1024  0           ['conv4_block5_add[0][0]']       \n",
            "                                )                                                                 \n",
            "                                                                                                  \n",
            " conv4_block6_1_conv (Conv2D)   (None, 14, 14, 256)  262400      ['conv4_block5_out[0][0]']       \n",
            "                                                                                                  \n",
            " conv4_block6_1_bn (BatchNormal  (None, 14, 14, 256)  1024       ['conv4_block6_1_conv[0][0]']    \n",
            " ization)                                                                                         \n",
            "                                                                                                  \n",
            " conv4_block6_1_relu (Activatio  (None, 14, 14, 256)  0          ['conv4_block6_1_bn[0][0]']      \n",
            " n)                                                                                               \n",
            "                                                                                                  \n",
            " conv4_block6_2_conv (Conv2D)   (None, 14, 14, 256)  590080      ['conv4_block6_1_relu[0][0]']    \n",
            "                                                                                                  \n",
            " conv4_block6_2_bn (BatchNormal  (None, 14, 14, 256)  1024       ['conv4_block6_2_conv[0][0]']    \n",
            " ization)                                                                                         \n",
            "                                                                                                  \n",
            " conv4_block6_2_relu (Activatio  (None, 14, 14, 256)  0          ['conv4_block6_2_bn[0][0]']      \n",
            " n)                                                                                               \n",
            "                                                                                                  \n",
            " conv4_block6_3_conv (Conv2D)   (None, 14, 14, 1024  263168      ['conv4_block6_2_relu[0][0]']    \n",
            "                                )                                                                 \n",
            "                                                                                                  \n",
            " conv4_block6_3_bn (BatchNormal  (None, 14, 14, 1024  4096       ['conv4_block6_3_conv[0][0]']    \n",
            " ization)                       )                                                                 \n",
            "                                                                                                  \n",
            " conv4_block6_add (Add)         (None, 14, 14, 1024  0           ['conv4_block5_out[0][0]',       \n",
            "                                )                                 'conv4_block6_3_bn[0][0]']      \n",
            "                                                                                                  \n",
            " conv4_block6_out (Activation)  (None, 14, 14, 1024  0           ['conv4_block6_add[0][0]']       \n",
            "                                )                                                                 \n",
            "                                                                                                  \n",
            " conv5_block1_1_conv (Conv2D)   (None, 7, 7, 512)    524800      ['conv4_block6_out[0][0]']       \n",
            "                                                                                                  \n",
            " conv5_block1_1_bn (BatchNormal  (None, 7, 7, 512)   2048        ['conv5_block1_1_conv[0][0]']    \n",
            " ization)                                                                                         \n",
            "                                                                                                  \n",
            " conv5_block1_1_relu (Activatio  (None, 7, 7, 512)   0           ['conv5_block1_1_bn[0][0]']      \n",
            " n)                                                                                               \n",
            "                                                                                                  \n",
            " conv5_block1_2_conv (Conv2D)   (None, 7, 7, 512)    2359808     ['conv5_block1_1_relu[0][0]']    \n",
            "                                                                                                  \n",
            " conv5_block1_2_bn (BatchNormal  (None, 7, 7, 512)   2048        ['conv5_block1_2_conv[0][0]']    \n",
            " ization)                                                                                         \n",
            "                                                                                                  \n",
            " conv5_block1_2_relu (Activatio  (None, 7, 7, 512)   0           ['conv5_block1_2_bn[0][0]']      \n",
            " n)                                                                                               \n",
            "                                                                                                  \n",
            " conv5_block1_0_conv (Conv2D)   (None, 7, 7, 2048)   2099200     ['conv4_block6_out[0][0]']       \n",
            "                                                                                                  \n",
            " conv5_block1_3_conv (Conv2D)   (None, 7, 7, 2048)   1050624     ['conv5_block1_2_relu[0][0]']    \n",
            "                                                                                                  \n",
            " conv5_block1_0_bn (BatchNormal  (None, 7, 7, 2048)  8192        ['conv5_block1_0_conv[0][0]']    \n",
            " ization)                                                                                         \n",
            "                                                                                                  \n",
            " conv5_block1_3_bn (BatchNormal  (None, 7, 7, 2048)  8192        ['conv5_block1_3_conv[0][0]']    \n",
            " ization)                                                                                         \n",
            "                                                                                                  \n",
            " conv5_block1_add (Add)         (None, 7, 7, 2048)   0           ['conv5_block1_0_bn[0][0]',      \n",
            "                                                                  'conv5_block1_3_bn[0][0]']      \n",
            "                                                                                                  \n",
            " conv5_block1_out (Activation)  (None, 7, 7, 2048)   0           ['conv5_block1_add[0][0]']       \n",
            "                                                                                                  \n",
            " conv5_block2_1_conv (Conv2D)   (None, 7, 7, 512)    1049088     ['conv5_block1_out[0][0]']       \n",
            "                                                                                                  \n",
            " conv5_block2_1_bn (BatchNormal  (None, 7, 7, 512)   2048        ['conv5_block2_1_conv[0][0]']    \n",
            " ization)                                                                                         \n",
            "                                                                                                  \n",
            " conv5_block2_1_relu (Activatio  (None, 7, 7, 512)   0           ['conv5_block2_1_bn[0][0]']      \n",
            " n)                                                                                               \n",
            "                                                                                                  \n",
            " conv5_block2_2_conv (Conv2D)   (None, 7, 7, 512)    2359808     ['conv5_block2_1_relu[0][0]']    \n",
            "                                                                                                  \n",
            " conv5_block2_2_bn (BatchNormal  (None, 7, 7, 512)   2048        ['conv5_block2_2_conv[0][0]']    \n",
            " ization)                                                                                         \n",
            "                                                                                                  \n",
            " conv5_block2_2_relu (Activatio  (None, 7, 7, 512)   0           ['conv5_block2_2_bn[0][0]']      \n",
            " n)                                                                                               \n",
            "                                                                                                  \n",
            " conv5_block2_3_conv (Conv2D)   (None, 7, 7, 2048)   1050624     ['conv5_block2_2_relu[0][0]']    \n",
            "                                                                                                  \n",
            " conv5_block2_3_bn (BatchNormal  (None, 7, 7, 2048)  8192        ['conv5_block2_3_conv[0][0]']    \n",
            " ization)                                                                                         \n",
            "                                                                                                  \n",
            " conv5_block2_add (Add)         (None, 7, 7, 2048)   0           ['conv5_block1_out[0][0]',       \n",
            "                                                                  'conv5_block2_3_bn[0][0]']      \n",
            "                                                                                                  \n",
            " conv5_block2_out (Activation)  (None, 7, 7, 2048)   0           ['conv5_block2_add[0][0]']       \n",
            "                                                                                                  \n",
            " conv5_block3_1_conv (Conv2D)   (None, 7, 7, 512)    1049088     ['conv5_block2_out[0][0]']       \n",
            "                                                                                                  \n",
            " conv5_block3_1_bn (BatchNormal  (None, 7, 7, 512)   2048        ['conv5_block3_1_conv[0][0]']    \n",
            " ization)                                                                                         \n",
            "                                                                                                  \n",
            " conv5_block3_1_relu (Activatio  (None, 7, 7, 512)   0           ['conv5_block3_1_bn[0][0]']      \n",
            " n)                                                                                               \n",
            "                                                                                                  \n",
            " conv5_block3_2_conv (Conv2D)   (None, 7, 7, 512)    2359808     ['conv5_block3_1_relu[0][0]']    \n",
            "                                                                                                  \n",
            " conv5_block3_2_bn (BatchNormal  (None, 7, 7, 512)   2048        ['conv5_block3_2_conv[0][0]']    \n",
            " ization)                                                                                         \n",
            "                                                                                                  \n",
            " conv5_block3_2_relu (Activatio  (None, 7, 7, 512)   0           ['conv5_block3_2_bn[0][0]']      \n",
            " n)                                                                                               \n",
            "                                                                                                  \n",
            " conv5_block3_3_conv (Conv2D)   (None, 7, 7, 2048)   1050624     ['conv5_block3_2_relu[0][0]']    \n",
            "                                                                                                  \n",
            " conv5_block3_3_bn (BatchNormal  (None, 7, 7, 2048)  8192        ['conv5_block3_3_conv[0][0]']    \n",
            " ization)                                                                                         \n",
            "                                                                                                  \n",
            " conv5_block3_add (Add)         (None, 7, 7, 2048)   0           ['conv5_block2_out[0][0]',       \n",
            "                                                                  'conv5_block3_3_bn[0][0]']      \n",
            "                                                                                                  \n",
            " conv5_block3_out (Activation)  (None, 7, 7, 2048)   0           ['conv5_block3_add[0][0]']       \n",
            "                                                                                                  \n",
            " avg_pool (GlobalAveragePooling  (None, 2048)        0           ['conv5_block3_out[0][0]']       \n",
            " 2D)                                                                                              \n",
            "                                                                                                  \n",
            " predictions (Dense)            (None, 1000)         2049000     ['avg_pool[0][0]']               \n",
            "                                                                                                  \n",
            "==================================================================================================\n",
            "Total params: 25,636,712\n",
            "Trainable params: 25,583,592\n",
            "Non-trainable params: 53,120\n",
            "__________________________________________________________________________________________________\n"
          ]
        }
      ]
    },
    {
      "cell_type": "code",
      "source": [],
      "metadata": {
        "id": "1OcexlVNjR75"
      },
      "execution_count": null,
      "outputs": []
    }
  ]
}